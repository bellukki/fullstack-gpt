{
 "cells": [
  {
   "cell_type": "code",
   "execution_count": 1,
   "metadata": {},
   "outputs": [],
   "source": [
    "from langchain.memory import ConversationSummaryBufferMemory\n",
    "from langchain_openai import ChatOpenAI\n",
    "from langchain.schema.runnable import RunnablePassthrough\n",
    "from langchain.prompts.few_shot import FewShotChatMessagePromptTemplate\n",
    "from langchain.callbacks import StreamingStdOutCallbackHandler\n",
    "from langchain.prompts import ChatPromptTemplate, MessagesPlaceholder\n",
    "from dotenv import load_dotenv\n",
    "\n",
    "load_dotenv()\n",
    "\n",
    "llm = ChatOpenAI(\n",
    "    model_name=\"gpt-3.5-turbo\",\n",
    "    temperature=0.1,\n",
    "    streaming=True,\n",
    "    callbacks=[StreamingStdOutCallbackHandler()],\n",
    ")\n",
    "\n",
    "memory = ConversationSummaryBufferMemory(\n",
    "    llm=llm,\n",
    "    max_token_limit=120,\n",
    "    return_messages=True\n",
    ")\n",
    "\n",
    "\n",
    "examples = [\n",
    "{\n",
    "\"movie\": \"Topgun\",\n",
    "\"answer\": \"\"\"\n",
    "Appropriate emojis include:\n",
    " \"🛩️👨‍✈️🔥\"\n",
    "\"\"\",\n",
    "},\n",
    "{\n",
    "\"movie\": \"Godfather\",\n",
    "\"answer\": \"\"\"\n",
    "Appropriate emojis include:\n",
    "\"👨‍👨‍👦🔫🍝\".\n",
    "\"\"\",\n",
    "},\n",
    "{\n",
    "\"movie\": \"Interstellar\",\n",
    "\"answer\": \"\"\"\n",
    "Appropriate emojis include\n",
    "\"💫👨‍👧👩‍🚀\".\n",
    "\"\"\",\n",
    "},\n",
    "{\n",
    "\"movie\": \"Avatar: The Way of Water\",\n",
    "\"answer\": \"\"\"\n",
    "Appropriate emojis include\n",
    "\"👨‍👩‍👧‍👦🧜‍♂️🐋\"\n",
    "\"\"\",\n",
    "},\n",
    "{\n",
    "\"movie\": \"Frozen II\",\n",
    "\"answer\": \"\"\"\n",
    "Appropriate emojis include\n",
    "\"👭🧙‍♀️❄\"\n",
    "\"\"\",\n",
    "},\n",
    "]\n",
    "\n",
    "\n",
    "example_prompt = ChatPromptTemplate.from_messages(\n",
    "    [\n",
    "        (\"human\", \"What do you know about {movie}? Answer with 3 emojis\"),\n",
    "        (\"ai\", \"{answer}\")\n",
    "    ]\n",
    ")\n",
    "\n",
    "example_prompt = FewShotChatMessagePromptTemplate(\n",
    "    example_prompt = example_prompt,\n",
    "    examples = examples,\n",
    ")\n",
    "\n",
    "final_prompt = ChatPromptTemplate.from_messages(\n",
    "    [\n",
    "        (\"system\", \"You are a film critic, you give answer with 3 emojis\"),\n",
    "        example_prompt,\n",
    "        MessagesPlaceholder(variable_name=\"history\"),\n",
    "        (\"human\", \"What do you know about {movie}?\")\n",
    "    ]\n",
    ")\n",
    "\n",
    "\n",
    "def load_memory(_):\n",
    "    return memory.load_memory_variables({})[\"history\"]\n",
    "\n",
    "chain = RunnablePassthrough.assign(history=load_memory) | final_prompt | llm\n",
    "\n",
    "def invoke_chain(movie):\n",
    "    result = chain.invoke({\"movie\": movie})\n",
    "    memory.save_context({\"input\": movie}, {\"output\": result.content})\n",
    "    print(result)"
   ]
  },
  {
   "cell_type": "code",
   "execution_count": 2,
   "metadata": {},
   "outputs": [
    {
     "name": "stdout",
     "output_type": "stream",
     "text": [
      "Appropriate emojis include:\n",
      "\"🐠🐟🐋\"content='Appropriate emojis include:\\n\"🐠🐟🐋\"' response_metadata={'finish_reason': 'stop'}\n"
     ]
    }
   ],
   "source": [
    "invoke_chain(\"finding Dory\")"
   ]
  },
  {
   "cell_type": "code",
   "execution_count": 3,
   "metadata": {},
   "outputs": [
    {
     "name": "stdout",
     "output_type": "stream",
     "text": [
      "Appropriate emojis include:\n",
      "\"🕹️👾👑\"content='Appropriate emojis include:\\n\"🕹️👾👑\"' response_metadata={'finish_reason': 'stop'}\n"
     ]
    }
   ],
   "source": [
    "invoke_chain(\"wreck it ralph\")"
   ]
  },
  {
   "cell_type": "code",
   "execution_count": 4,
   "metadata": {},
   "outputs": [
    {
     "name": "stdout",
     "output_type": "stream",
     "text": [
      "The previous movie you asked about was \"Finding Dory.\"content='The previous movie you asked about was \"Finding Dory.\"' response_metadata={'finish_reason': 'stop'}\n"
     ]
    }
   ],
   "source": [
    "invoke_chain(\"what was the previous movie I askedWhat was the previous movie I asked you about? Answer with a movie name, not an emoji\")"
   ]
  }
 ],
 "metadata": {
  "kernelspec": {
   "display_name": "env",
   "language": "python",
   "name": "python3"
  },
  "language_info": {
   "codemirror_mode": {
    "name": "ipython",
    "version": 3
   },
   "file_extension": ".py",
   "mimetype": "text/x-python",
   "name": "python",
   "nbconvert_exporter": "python",
   "pygments_lexer": "ipython3",
   "version": "3.11.6"
  }
 },
 "nbformat": 4,
 "nbformat_minor": 2
}
